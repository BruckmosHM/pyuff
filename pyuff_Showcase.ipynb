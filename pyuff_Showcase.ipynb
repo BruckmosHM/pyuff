{
 "cells": [
  {
   "cell_type": "markdown",
   "metadata": {},
   "source": [
    "Jun 2018: Janko Slavič (janko.slavic@fs.uni-lj.si), Matej Razpotnik (matej.razpotnik@gmail.com), Blaž Starc (sbtlaarzc@gmail.com), Matjaž Mršnik (matjaz.mrsnik@gmail.com), Matija Brumat (matija.brumat@gmail.com)"
   ]
  },
  {
   "cell_type": "markdown",
   "metadata": {},
   "source": [
    "# pyuff Showcase"
   ]
  },
  {
   "cell_type": "markdown",
   "metadata": {},
   "source": [
    "See the [documentation](https://pyuff.readthedocs.io/en/latest/index.html) for the ``pyUFF`` package!"
   ]
  },
  {
   "cell_type": "markdown",
   "metadata": {},
   "source": [
    "This module is part of the [www.openmodal.com](www.openmodal.com) project and defines an UFF class to manipulate with the UFF (Universal File Format) files."
   ]
  },
  {
   "cell_type": "markdown",
   "metadata": {},
   "source": [
    "UFF file format was originally developed by the Structural Dynamics Research Corporation (SDRC) to standardize data transfer mainly between various modal analysis, measurement or CAD geometry software products. UFF file is composed into several *datasets*, most important being the *dataset* 58 for measurement data and *dataset* 55 for modal data. More info on specific *datasets* can be obtained at https://www.ceas3.uc.edu/sdrluff"
   ]
  },
  {
   "cell_type": "markdown",
   "metadata": {},
   "source": [
    "If required, install ``pyuff`` and ``matplotlib``"
   ]
  },
  {
   "cell_type": "code",
   "execution_count": 1,
   "metadata": {
    "tags": []
   },
   "outputs": [],
   "source": [
    "#!!pip install pyuff\n",
    "#!!pip install matplotlib"
   ]
  },
  {
   "cell_type": "code",
   "execution_count": 2,
   "metadata": {},
   "outputs": [],
   "source": [
    "import numpy as np\n",
    "import matplotlib.pyplot as plt\n",
    "%matplotlib inline"
   ]
  },
  {
   "cell_type": "markdown",
   "metadata": {},
   "source": [
    "To analyse UFF file we first load the uff module and example file:"
   ]
  },
  {
   "cell_type": "code",
   "execution_count": 3,
   "metadata": {},
   "outputs": [],
   "source": [
    "import pyuff\n",
    "uff_file = pyuff.UFF('data/beam.uff')"
   ]
  },
  {
   "cell_type": "markdown",
   "metadata": {},
   "source": [
    "First we can check which *datasets* are written in the file:"
   ]
  },
  {
   "cell_type": "code",
   "execution_count": 4,
   "metadata": {},
   "outputs": [
    {
     "data": {
      "text/plain": [
       "array([ 151,  164, 2420, 2411,   58,   58,   58])"
      ]
     },
     "execution_count": 4,
     "metadata": {},
     "output_type": "execute_result"
    }
   ],
   "source": [
    "uff_file.get_set_types()"
   ]
  },
  {
   "cell_type": "markdown",
   "metadata": {},
   "source": [
    "we see that first 4 *datasets* are *151: Header, 164: Units, 2420: Coordinate Systems* and *2411: Nodes - Double Precision*. Next we have several *datasets* 58 containing measurement data. To check what is written in the header (first *dataset*) use:"
   ]
  },
  {
   "cell_type": "code",
   "execution_count": 5,
   "metadata": {},
   "outputs": [
    {
     "data": {
      "text/plain": [
       "{'type': 151,\n",
       " 'model_name': 'NewModel',\n",
       " 'description': 'DefaultDecription',\n",
       " 'db_app': 'modaldata v1',\n",
       " 'date_db_created': '29-Jan-16',\n",
       " 'time_db_created': '14:48:16',\n",
       " 'version_db1': 0,\n",
       " 'version_db2': 0,\n",
       " 'file_type': 0,\n",
       " 'date_db_saved': '29-Jan-16',\n",
       " 'time_db_saved': '14:48:16',\n",
       " 'program': 'Open Modal',\n",
       " 'date_file_written': '29-Jan-16',\n",
       " 'time_file_written': '14:48:16'}"
      ]
     },
     "execution_count": 5,
     "metadata": {},
     "output_type": "execute_result"
    }
   ],
   "source": [
    "uff_file.read_sets(0)"
   ]
  },
  {
   "cell_type": "markdown",
   "metadata": {},
   "source": [
    "We see that each *dataset* consists number of dictionary-like *keys*. We read and write directly to *keys*."
   ]
  },
  {
   "cell_type": "markdown",
   "metadata": {},
   "source": [
    "## Reading from the UFF file"
   ]
  },
  {
   "cell_type": "markdown",
   "metadata": {},
   "source": [
    "To load all *datasets* from the UFF file to `data` object use:"
   ]
  },
  {
   "cell_type": "code",
   "execution_count": 6,
   "metadata": {},
   "outputs": [],
   "source": [
    "data = uff_file.read_sets()"
   ]
  },
  {
   "cell_type": "markdown",
   "metadata": {},
   "source": [
    "The first *dataset* 58 (this is the fifth in the example file) contains following *keys*:"
   ]
  },
  {
   "cell_type": "code",
   "execution_count": 7,
   "metadata": {},
   "outputs": [
    {
     "data": {
      "text/plain": [
       "dict_keys(['type', 'binary', 'id1', 'id2', 'id3', 'id4', 'id5', 'func_type', 'func_id', 'ver_num', 'load_case_id', 'rsp_ent_name', 'rsp_node', 'rsp_dir', 'ref_ent_name', 'ref_node', 'ref_dir', 'ord_data_type', 'num_pts', 'abscissa_spacing', 'abscissa_min', 'abscissa_inc', 'z_axis_value', 'abscissa_spec_data_type', 'abscissa_len_unit_exp', 'abscissa_force_unit_exp', 'abscissa_temp_unit_exp', 'abscissa_axis_lab', 'abscissa_axis_units_lab', 'ordinate_spec_data_type', 'ordinate_len_unit_exp', 'ordinate_force_unit_exp', 'ordinate_temp_unit_exp', 'ordinate_axis_lab', 'ordinate_axis_units_lab', 'orddenom_spec_data_type', 'orddenom_len_unit_exp', 'orddenom_force_unit_exp', 'orddenom_temp_unit_exp', 'orddenom_axis_lab', 'orddenom_axis_units_lab', 'z_axis_spec_data_type', 'z_axis_len_unit_exp', 'z_axis_force_unit_exp', 'z_axis_temp_unit_exp', 'z_axis_axis_lab', 'z_axis_axis_units_lab', 'x', 'data'])"
      ]
     },
     "execution_count": 7,
     "metadata": {},
     "output_type": "execute_result"
    }
   ],
   "source": [
    "data[4].keys()"
   ]
  },
  {
   "cell_type": "markdown",
   "metadata": {},
   "source": [
    "To read specific *key* form the desired *dataset* use:"
   ]
  },
  {
   "cell_type": "code",
   "execution_count": 8,
   "metadata": {},
   "outputs": [
    {
     "data": {
      "text/plain": [
       "4"
      ]
     },
     "execution_count": 8,
     "metadata": {},
     "output_type": "execute_result"
    }
   ],
   "source": [
    "data[4]['func_type']"
   ]
  },
  {
   "cell_type": "markdown",
   "metadata": {},
   "source": [
    "e.g. *key* `'func_type'`: 4 in the *dataset* 58 means that the function type in this *dataset* is frequency response function."
   ]
  },
  {
   "cell_type": "markdown",
   "metadata": {},
   "source": [
    "Most important *keys* are 'x': x_axis and 'data': y_axis that define the stored response:"
   ]
  },
  {
   "cell_type": "code",
   "execution_count": 9,
   "metadata": {},
   "outputs": [
    {
     "data": {
      "image/png": "[encoded data removed]",
      "text/plain": [
       "<Figure size 432x288 with 1 Axes>"
      ]
     },
     "metadata": {
      "needs_background": "light"
     },
     "output_type": "display_data"
    }
   ],
   "source": [
    "plt.semilogy(data[4]['x'], np.abs(data[4]['data']))\n",
    "plt.xlabel('Frequency  [Hz]')\n",
    "plt.ylabel('FRF Magnitude [dB m/N]')\n",
    "plt.xlim([0,1000])\n",
    "plt.show()"
   ]
  },
  {
   "cell_type": "markdown",
   "metadata": {},
   "source": [
    "Other keys in the *dataset* 58 are explained here: http://www.sdrl.uc.edu/sdrl/referenceinfo/universalfileformats/file-format-storehouse/universal-dataset-number-58 Similarly we could read the data from *dataset* 55 that is used for modal data."
   ]
  },
  {
   "cell_type": "markdown",
   "metadata": {},
   "source": [
    "## Write measurement data to UFF file"
   ]
  },
  {
   "cell_type": "markdown",
   "metadata": {},
   "source": [
    "Here you can see a minimal working example for writing three measured accelerance FRF data to the UFF file *measurement_123.uff*. First we load the accelerances:"
   ]
  },
  {
   "cell_type": "code",
   "execution_count": 10,
   "metadata": {},
   "outputs": [],
   "source": [
    "measurement_point_1 = np.genfromtxt('data/meas_point_1.txt', dtype=complex)\n",
    "measurement_point_2 = np.genfromtxt('data/meas_point_2.txt', dtype=complex)\n",
    "measurement_point_3 = np.genfromtxt('data/meas_point_3.txt', dtype=complex)"
   ]
  },
  {
   "cell_type": "code",
   "execution_count": 11,
   "metadata": {},
   "outputs": [],
   "source": [
    "measurement_point_1[0] = np.nan*(1+1.j)"
   ]
  },
  {
   "cell_type": "code",
   "execution_count": 12,
   "metadata": {},
   "outputs": [
    {
     "data": {
      "text/plain": [
       "array([        nan       +nanj, -0.17515115-0.12042372j,\n",
       "        0.09362347+0.02570918j, ..., -0.54654555+0.00535394j,\n",
       "       -0.5316    +0.00659625j, -0.53797177+0.01138392j])"
      ]
     },
     "execution_count": 12,
     "metadata": {},
     "output_type": "execute_result"
    }
   ],
   "source": [
    "measurement_point_1"
   ]
  },
  {
   "cell_type": "code",
   "execution_count": 13,
   "metadata": {},
   "outputs": [],
   "source": [
    "measurement = [measurement_point_1, measurement_point_2, measurement_point_3]"
   ]
  },
  {
   "cell_type": "markdown",
   "metadata": {},
   "source": [
    "In the next step we create a UFF file where we add *dataset* 58 for each measurement point consisting of the dictionary-like *keys* containing the measurement data and the information about the mesurement point."
   ]
  },
  {
   "cell_type": "code",
   "execution_count": 14,
   "metadata": {},
   "outputs": [
    {
     "name": "stdout",
     "output_type": "stream",
     "text": [
      "Adding point 1\n",
      "Adding point 2\n",
      "Adding point 3\n"
     ]
    }
   ],
   "source": [
    "for i in range(3):\n",
    "    print('Adding point {:}'.format(i + 1))\n",
    "    response_node = 1\n",
    "    response_direction = 1\n",
    "    reference_node = i + 1\n",
    "    reference_direction = 1\n",
    "    acceleration_complex = measurement[i]\n",
    "    frequency = np.arange(0, 1001)\n",
    "    name = 'TestCase'\n",
    "    data = {'type':58, \n",
    "            'func_type':4, \n",
    "            'rsp_node': response_node, \n",
    "            'rsp_dir': response_direction, \n",
    "            'ref_dir': reference_direction, \n",
    "            'ref_node': reference_node,\n",
    "            'data': acceleration_complex,\n",
    "            'x': frequency,\n",
    "            'id1': 'id1', \n",
    "            'rsp_ent_name': name,\n",
    "            'ref_ent_name': name,\n",
    "            'abscissa_spacing':1,\n",
    "            'abscissa_spec_data_type':18,\n",
    "            'ordinate_spec_data_type':12,\n",
    "            'orddenom_spec_data_type':13}\n",
    "    uffwrite = pyuff.UFF('./data/measurement.uff')\n",
    "    uffwrite._write_set(data,'add')"
   ]
  },
  {
   "cell_type": "markdown",
   "metadata": {},
   "source": [
    "Note: If we run upper example twice we add the data two-times! `._write_set` Does not check if the nodal responses are allready written in the file, it just writes the defined dataset at the end of choosen file!"
   ]
  },
  {
   "cell_type": "markdown",
   "metadata": {},
   "source": [
    "If you would like to write is as dataset 58b, all you need to add is the key `binary: 1` (which is by default `0`). \n",
    "\n",
    "The data dictionary in the example below is built using the ``prepare_58()`` function."
   ]
  },
  {
   "cell_type": "code",
   "execution_count": 16,
   "metadata": {},
   "outputs": [
    {
     "name": "stdout",
     "output_type": "stream",
     "text": [
      "Adding point 1\n",
      "Adding point 2\n",
      "Adding point 3\n"
     ]
    }
   ],
   "source": [
    "for i in range(3):\n",
    "    print('Adding point {:}'.format(i + 1))\n",
    "    response_node = 1\n",
    "    response_direction = 1\n",
    "    reference_node = i + 1\n",
    "    reference_direction = 1\n",
    "    acceleration_complex = measurement[i]\n",
    "    frequency = np.arange(0, 1001)\n",
    "    name = 'TestCase'\n",
    "    \n",
    "    data = pyuff.prepare_58(\n",
    "        binary=1,\n",
    "        func_type=4,\n",
    "        rsp_node=response_node,\n",
    "        rsp_dir=response_direction,\n",
    "        ref_dir=reference_direction,\n",
    "        ref_node=reference_node,\n",
    "        data=acceleration_complex,\n",
    "        x=frequency,\n",
    "        id1='id1',\n",
    "        rsp_ent_name=name,\n",
    "        ref_ent_name=name,\n",
    "        abscissa_spacing=1,\n",
    "        abscissa_spec_data_type=18,\n",
    "        ordinate_spec_data_type=12,\n",
    "        orddenom_spec_data_type=13)\n",
    "    \n",
    "    uffwrite = pyuff.UFF('./data/measurement_58b.uff')\n",
    "    uffwrite._write_set(data,'add')"
   ]
  },
  {
   "cell_type": "markdown",
   "metadata": {},
   "source": [
    "## The ``prepare_xx()`` functions"
   ]
  },
  {
   "cell_type": "markdown",
   "metadata": {},
   "source": [
    "The new ``prepare_xx()`` functions enable easy dictionary construction. \n",
    "\n",
    "Each function contains the arguments that are available for a certain dataset and the arguments are documented in the docstring along with the reference to the **record** and **field** in the UFF file.\n",
    "\n",
    "All of the docstrings are available in the ``pyUFF`` [documentation](https://pyuff.readthedocs.io/en/latest/index.html). To see the docstring for, e.g., ``prepare_15()`` function:"
   ]
  },
  {
   "cell_type": "code",
   "execution_count": 17,
   "metadata": {},
   "outputs": [
    {
     "data": {
      "text/plain": [
       "\u001b[1;31mSignature:\u001b[0m\n",
       " \u001b[0mpyuff\u001b[0m\u001b[1;33m.\u001b[0m\u001b[0mprepare_15\u001b[0m\u001b[1;33m(\u001b[0m\u001b[1;33m\n",
       "\u001b[0m    \u001b[0mnode_nums\u001b[0m\u001b[1;33m=\u001b[0m\u001b[1;32mNone\u001b[0m\u001b[1;33m,\u001b[0m\u001b[1;33m\n",
       "\u001b[0m    \u001b[0mdef_cs\u001b[0m\u001b[1;33m=\u001b[0m\u001b[1;32mNone\u001b[0m\u001b[1;33m,\u001b[0m\u001b[1;33m\n",
       "\u001b[0m    \u001b[0mdisp_cs\u001b[0m\u001b[1;33m=\u001b[0m\u001b[1;32mNone\u001b[0m\u001b[1;33m,\u001b[0m\u001b[1;33m\n",
       "\u001b[0m    \u001b[0mcolor\u001b[0m\u001b[1;33m=\u001b[0m\u001b[1;32mNone\u001b[0m\u001b[1;33m,\u001b[0m\u001b[1;33m\n",
       "\u001b[0m    \u001b[0mx\u001b[0m\u001b[1;33m=\u001b[0m\u001b[1;32mNone\u001b[0m\u001b[1;33m,\u001b[0m\u001b[1;33m\n",
       "\u001b[0m    \u001b[0my\u001b[0m\u001b[1;33m=\u001b[0m\u001b[1;32mNone\u001b[0m\u001b[1;33m,\u001b[0m\u001b[1;33m\n",
       "\u001b[0m    \u001b[0mz\u001b[0m\u001b[1;33m=\u001b[0m\u001b[1;32mNone\u001b[0m\u001b[1;33m,\u001b[0m\u001b[1;33m\n",
       "\u001b[0m    \u001b[0mreturn_full_dict\u001b[0m\u001b[1;33m=\u001b[0m\u001b[1;32mFalse\u001b[0m\u001b[1;33m,\u001b[0m\u001b[1;33m\n",
       "\u001b[0m\u001b[1;33m)\u001b[0m\u001b[1;33m\u001b[0m\u001b[1;33m\u001b[0m\u001b[0m\n",
       "\u001b[1;31mDocstring:\u001b[0m\n",
       "Name: Nodes\n",
       "\n",
       "R-Record, F-Field\n",
       "\n",
       ":param node_nums: R1 F1, node label\n",
       ":param def_cs: R1 F2, deformation coordinate system numbers, optional\n",
       ":param disp_cs: R1 F3, displacement coordinate system numbers, optional\n",
       ":param color: R1 F4, color, optional\n",
       ":param x: R1 F5, Dimensional coordinate of node in the definition system\n",
       ":param y: R1 F6, Dimensional coordinate of node in the definition system\n",
       ":param z: R1 F7, Dimensional coordinate of node in the definition system\n",
       "\n",
       ":param return_full_dict: If True full dict with all keys is returned, else only specified arguments are included\n",
       "\n",
       "**Test prepare_15**\n",
       "\n",
       ">>> save_to_file = 'test_pyuff'\n",
       ">>> dataset = pyuff.prepare_15(\n",
       ">>>     node_nums=[16, 17, 18, 19, 20],\n",
       ">>>     def_cs=[11, 11, 11, 12, 12],\n",
       ">>>     disp_cs=[16, 16, 17, 18, 19],\n",
       ">>>     color=[1, 3, 4, 5, 6],  # I10,\n",
       ">>>     x=[0.0, 1.53, 0.0, 1.53, 0.0],\n",
       ">>>     y=[0.0, 0.0, 3.84, 3.84, 0.0],\n",
       ">>>     z=[0.0, 0.0, 0.0, 0.0, 1.83])\n",
       ">>> if save_to_file:\n",
       ">>>     if os.path.exists(save_to_file):\n",
       ">>>         os.remove(save_to_file)\n",
       ">>>     uffwrite = pyuff.UFF(save_to_file)\n",
       ">>>     uffwrite._write_set(dataset, 'add')\n",
       ">>> dataset\n",
       "\u001b[1;31mFile:\u001b[0m      d:\\phdpy\\pyuff\\pyuff\\datasets\\dataset_15.py\n",
       "\u001b[1;31mType:\u001b[0m      function\n"
      ]
     },
     "metadata": {},
     "output_type": "display_data"
    }
   ],
   "source": [
    "? pyuff.prepare_15"
   ]
  },
  {
   "cell_type": "code",
   "execution_count": null,
   "metadata": {},
   "outputs": [],
   "source": []
  }
 ],
 "metadata": {
  "anaconda-cloud": {},
  "kernelspec": {
   "display_name": "Python 3 (ipykernel)",
   "language": "python",
   "name": "python3"
  },
  "language_info": {
   "codemirror_mode": {
    "name": "ipython",
    "version": 3
   },
   "file_extension": ".py",
   "mimetype": "text/x-python",
   "name": "python",
   "nbconvert_exporter": "python",
   "pygments_lexer": "ipython3",
   "version": "3.7.4"
  },
  "latex_envs": {
   "bibliofile": "biblio.bib",
   "cite_by": "apalike",
   "current_citInitial": 1,
   "eqLabelWithNumbers": true,
   "eqNumInitial": 0
  },
  "nav_menu": {},
  "toc": {
   "base_numbering": 1,
   "nav_menu": {},
   "number_sections": true,
   "sideBar": true,
   "skip_h1_title": false,
   "title_cell": "Kazalo",
   "title_sidebar": "Kazalo",
   "toc_cell": false,
   "toc_position": {},
   "toc_section_display": "block",
   "toc_window_display": false
  }
 },
 "nbformat": 4,
 "nbformat_minor": 4
}
