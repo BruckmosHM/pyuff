{
 "cells": [
  {
   "cell_type": "markdown",
   "metadata": {},
   "source": [
    "Jul 2017: Janko Slavič (janko.slavic@fs.uni-lj.si), Matej Razpotnik (matej.razpotnik@gmail.com), Blaž Starc (sbtlaarzc@gmail.com), Matjaž Mršnik (matjaz.mrsnik@gmail.com), Matija Brumat (matija.brumat@gmail.com)"
   ]
  },
  {
   "cell_type": "markdown",
   "metadata": {},
   "source": [
    "# pyuff Showcase"
   ]
  },
  {
   "cell_type": "markdown",
   "metadata": {},
   "source": [
    "This module is part of the [www.openmodal.com](www.openmodal.com) project and defines an UFF class to manipulate with the UFF (Universal File Format) files."
   ]
  },
  {
   "cell_type": "markdown",
   "metadata": {},
   "source": [
    "UFF file format was originally developed by the Structural Dynamics Research Corporation (SDRC) to standardize data transfer mainly between various modal analysis, measurement or CAD geometry software products. UFF file is composed into several *datasets*, most important being the *dataset* 58 for measurement data and *dataset* 55 for modal data. More info on specific *datasets* can be obtained at http://www.sdrl.uc.edu/sdrl/referenceinfo/universalfileformats"
   ]
  },
  {
   "cell_type": "markdown",
   "metadata": {},
   "source": [
    "If required, install ``pyuff`` and ``matplotlib``"
   ]
  },
  {
   "cell_type": "code",
   "execution_count": 2,
   "metadata": {
    "collapsed": true
   },
   "outputs": [],
   "source": [
    "#!!pip install pyuff\n",
    "#!!pip install matplotlib"
   ]
  },
  {
   "cell_type": "code",
   "execution_count": 1,
   "metadata": {
    "collapsed": true
   },
   "outputs": [],
   "source": [
    "import numpy as np\n",
    "import matplotlib.pyplot as plt\n",
    "%matplotlib inline"
   ]
  },
  {
   "cell_type": "markdown",
   "metadata": {},
   "source": [
    "To analyse UFF file we first load the uff module and example file:"
   ]
  },
  {
   "cell_type": "code",
   "execution_count": 3,
   "metadata": {
    "collapsed": true
   },
   "outputs": [],
   "source": [
    "import pyuff\n",
    "uff_file = pyuff.UFF('data/beam.uff')"
   ]
  },
  {
   "cell_type": "markdown",
   "metadata": {},
   "source": [
    "First we can check which *datasets* are written in the file:"
   ]
  },
  {
   "cell_type": "code",
   "execution_count": 4,
   "metadata": {},
   "outputs": [
    {
     "data": {
      "text/plain": [
       "array([  151.,   164.,  2420.,  2411.,    58.,    58.,    58.])"
      ]
     },
     "execution_count": 4,
     "metadata": {},
     "output_type": "execute_result"
    }
   ],
   "source": [
    "uff_file.get_set_types()"
   ]
  },
  {
   "cell_type": "markdown",
   "metadata": {},
   "source": [
    "we see that first 4 *datasets* are *151: Header, 164: Units, 2420: Coordinate Systems* and *2411: Nodes - Double Precision*. Next we have several *datasets* 58 containing measurement data. To check what is written in the header (first *dataset*) use:"
   ]
  },
  {
   "cell_type": "code",
   "execution_count": 5,
   "metadata": {},
   "outputs": [
    {
     "data": {
      "text/plain": [
       "{'date_db_created': '29-Jan-16',\n",
       " 'date_db_saved': '29-Jan-16',\n",
       " 'date_file_written': '29-Jan-16',\n",
       " 'db_app': 'modaldata v1',\n",
       " 'description': 'DefaultDecription',\n",
       " 'file_type': 0,\n",
       " 'model_name': 'NewModel',\n",
       " 'program': 'Open Modal',\n",
       " 'time_db_created': '14:48:16',\n",
       " 'time_db_saved': '14:48:16',\n",
       " 'time_file_written': '14:48:16',\n",
       " 'type': 151,\n",
       " 'version_db1': 0,\n",
       " 'version_db2': 0}"
      ]
     },
     "execution_count": 5,
     "metadata": {},
     "output_type": "execute_result"
    }
   ],
   "source": [
    "uff_file.read_sets(0)"
   ]
  },
  {
   "cell_type": "markdown",
   "metadata": {},
   "source": [
    "We see that each *dataset* consists number of dictionary-like *keys*. We read and write directly to *keys*."
   ]
  },
  {
   "cell_type": "markdown",
   "metadata": {},
   "source": [
    "## Reading from the UFF file"
   ]
  },
  {
   "cell_type": "markdown",
   "metadata": {},
   "source": [
    "To load all *datasets* from the UFF file to `data` object use:"
   ]
  },
  {
   "cell_type": "code",
   "execution_count": 6,
   "metadata": {
    "collapsed": true
   },
   "outputs": [],
   "source": [
    "data = uff_file.read_sets()"
   ]
  },
  {
   "cell_type": "markdown",
   "metadata": {},
   "source": [
    "The first *dataset* 58 (this is the fifth in the example file) contains following *keys*:"
   ]
  },
  {
   "cell_type": "code",
   "execution_count": 7,
   "metadata": {},
   "outputs": [
    {
     "data": {
      "text/plain": [
       "dict_keys(['type', 'binary', 'id1', 'id2', 'id3', 'id4', 'id5', 'func_type', 'func_id', 'ver_num', 'load_case_id', 'rsp_ent_name', 'rsp_node', 'rsp_dir', 'ref_ent_name', 'ref_node', 'ref_dir', 'ord_data_type', 'num_pts', 'abscissa_spacing', 'abscissa_min', 'abscissa_inc', 'z_axis_value', 'abscissa_spec_data_type', 'abscissa_len_unit_exp', 'abscissa_force_unit_exp', 'abscissa_temp_unit_exp', 'abscissa_axis_lab', 'abscissa_axis_units_lab', 'ordinate_spec_data_type', 'ordinate_len_unit_exp', 'ordinate_force_unit_exp', 'ordinate_temp_unit_exp', 'ordinate_axis_lab', 'ordinate_axis_units_lab', 'orddenom_spec_data_type', 'orddenom_len_unit_exp', 'orddenom_force_unit_exp', 'orddenom_temp_unit_exp', 'orddenom_axis_lab', 'orddenom_axis_units_lab', 'z_axis_spec_data_type', 'z_axis_len_unit_exp', 'z_axis_force_unit_exp', 'z_axis_temp_unit_exp', 'z_axis_axis_lab', 'z_axis_axis_units_lab', 'x', 'data'])"
      ]
     },
     "execution_count": 7,
     "metadata": {},
     "output_type": "execute_result"
    }
   ],
   "source": [
    "data[4].keys()"
   ]
  },
  {
   "cell_type": "markdown",
   "metadata": {},
   "source": [
    "To read specific *key* form the desired *dataset* use:"
   ]
  },
  {
   "cell_type": "code",
   "execution_count": 8,
   "metadata": {},
   "outputs": [
    {
     "data": {
      "text/plain": [
       "4"
      ]
     },
     "execution_count": 8,
     "metadata": {},
     "output_type": "execute_result"
    }
   ],
   "source": [
    "data[4]['func_type']"
   ]
  },
  {
   "cell_type": "markdown",
   "metadata": {},
   "source": [
    "e.g. *key* `'func_type'`: 4 in the *dataset* 58 means that the function type in this *dataset* is frequency response function."
   ]
  },
  {
   "cell_type": "markdown",
   "metadata": {},
   "source": [
    "Most important *keys* are 'x': x_axis and 'data': y_axis that define the stored response:"
   ]
  },
  {
   "cell_type": "code",
   "execution_count": 9,
   "metadata": {},
   "outputs": [
    {
     "data": {
      "image/png": "[encoded data removed]",
      "text/plain": [
       "<matplotlib.figure.Figure at 0x1775d356f28>"
      ]
     },
     "metadata": {},
     "output_type": "display_data"
    }
   ],
   "source": [
    "plt.semilogy(data[4]['x'], np.abs(data[4]['data']))\n",
    "plt.xlabel('Frequency  [Hz]')\n",
    "plt.ylabel('FRF Magnitude [dB m/N]')\n",
    "plt.xlim([0,1000])\n",
    "plt.show()"
   ]
  },
  {
   "cell_type": "markdown",
   "metadata": {},
   "source": [
    "Other keys in the *dataset* 58 are explained here: http://www.sdrl.uc.edu/sdrl/referenceinfo/universalfileformats/file-format-storehouse/universal-dataset-number-58 Similarly we could read the data from *dataset* 55 that is used for modal data."
   ]
  },
  {
   "cell_type": "markdown",
   "metadata": {},
   "source": [
    "## Write measurement data to UFF file"
   ]
  },
  {
   "cell_type": "markdown",
   "metadata": {},
   "source": [
    "Here you can see a minimal working example for writing three measured accelerance FRF data to the UFF file *measurement_123.uff*. First we load the accelerances:"
   ]
  },
  {
   "cell_type": "code",
   "execution_count": 10,
   "metadata": {
    "collapsed": true
   },
   "outputs": [],
   "source": [
    "measurement_point_1 = np.genfromtxt('data/meas_point_1.txt', dtype=complex)\n",
    "measurement_point_2 = np.genfromtxt('data/meas_point_2.txt', dtype=complex)\n",
    "measurement_point_3 = np.genfromtxt('data/meas_point_3.txt', dtype=complex)"
   ]
  },
  {
   "cell_type": "code",
   "execution_count": 11,
   "metadata": {
    "collapsed": true
   },
   "outputs": [],
   "source": [
    "measurement_point_1[0] = np.nan*(1+1.j)"
   ]
  },
  {
   "cell_type": "code",
   "execution_count": 12,
   "metadata": {},
   "outputs": [
    {
     "data": {
      "text/plain": [
       "array([        nan       +nanj, -0.17515115-0.12042372j,\n",
       "        0.09362347+0.02570918j, ..., -0.54654555+0.00535394j,\n",
       "       -0.53160000+0.00659625j, -0.53797177+0.01138392j])"
      ]
     },
     "execution_count": 12,
     "metadata": {},
     "output_type": "execute_result"
    }
   ],
   "source": [
    "measurement_point_1"
   ]
  },
  {
   "cell_type": "code",
   "execution_count": 13,
   "metadata": {
    "collapsed": true
   },
   "outputs": [],
   "source": [
    "measurement = [measurement_point_1, measurement_point_2, measurement_point_3]"
   ]
  },
  {
   "cell_type": "markdown",
   "metadata": {},
   "source": [
    "In the next step we create a UFF file where we add *dataset* 58 for each measurement point consisting of the dictionary-like *keys* containing the measurement data and the information about the mesurement point."
   ]
  },
  {
   "cell_type": "code",
   "execution_count": 14,
   "metadata": {},
   "outputs": [
    {
     "name": "stdout",
     "output_type": "stream",
     "text": [
      "Adding point 1\n",
      "Adding point 2\n",
      "Adding point 3\n"
     ]
    }
   ],
   "source": [
    "for i in range(3):\n",
    "    print('Adding point {:}'.format(i + 1))\n",
    "    response_node = 1\n",
    "    response_direction = 1\n",
    "    reference_node = i + 1\n",
    "    reference_direction = 1\n",
    "    acceleration_complex = measurement[i]\n",
    "    frequency = np.arange(0, 1001)\n",
    "    name = 'TestCase'\n",
    "    data = {'type':58, \n",
    "            'func_type':4, \n",
    "            'rsp_node': response_node, \n",
    "            'rsp_dir': response_direction, \n",
    "            'ref_dir': reference_direction, \n",
    "            'ref_node': reference_node,\n",
    "            'data': acceleration_complex,\n",
    "            'x': frequency,\n",
    "            'id1': 'id1', \n",
    "            'rsp_ent_name': name,\n",
    "            'ref_ent_name': name,\n",
    "            'abscissa_spacing':1,\n",
    "            'abscissa_spec_data_type':18,\n",
    "            'ordinate_spec_data_type':12,\n",
    "            'orddenom_spec_data_type':13}\n",
    "    uffwrite = pyuff.UFF('./data/measurement.uff')\n",
    "    uffwrite._write_set(data,'add')"
   ]
  },
  {
   "cell_type": "markdown",
   "metadata": {},
   "source": [
    "Note: If we run upper example twice we add the data two-times! `._write_set` Does not check if the nodal responses are allready written in the file, it just writes the defined dataset at the end of choosen file!"
   ]
  },
  {
   "cell_type": "markdown",
   "metadata": {},
   "source": [
    "# Test functions\n",
    "\n",
    "Currently, test functions shown below are prepared. Check out the pyuff.py for details."
   ]
  },
  {
   "cell_type": "code",
   "execution_count": 15,
   "metadata": {},
   "outputs": [
    {
     "data": {
      "text/plain": [
       "{'color': [1, 3, 4, 5, 6],\n",
       " 'def_cs': [11, 11, 11, 12, 12],\n",
       " 'disp_cs': [16, 16, 17, 18, 19],\n",
       " 'node_nums': [16, 17, 18, 19, 20],\n",
       " 'type': 15,\n",
       " 'x': [0.0, 1.53, 0.0, 1.53, 0.0],\n",
       " 'y': [0.0, 0.0, 3.84, 3.84, 0.0],\n",
       " 'z': [0.0, 0.0, 0.0, 0.0, 1.83]}"
      ]
     },
     "execution_count": 15,
     "metadata": {},
     "output_type": "execute_result"
    }
   ],
   "source": [
    "pyuff.prepare_test_15()"
   ]
  },
  {
   "cell_type": "code",
   "execution_count": 16,
   "metadata": {},
   "outputs": [
    {
     "name": "stdout",
     "output_type": "stream",
     "text": [
      "Adding point 1\n",
      "Adding point 2\n",
      "Adding point 3\n"
     ]
    },
    {
     "data": {
      "text/plain": [
       "[{'abscissa_spacing': 1,\n",
       "  'abscissa_spec_data_type': 18,\n",
       "  'binary': 0,\n",
       "  'data': array([ 1.76405235+0.14404357j,  0.40015721+1.45427351j,\n",
       "          0.97873798+0.76103773j,  2.24089320+0.12167502j,\n",
       "          1.86755799+0.44386323j, -0.97727788+0.33367433j,\n",
       "          0.95008842+1.49407907j, -0.15135721-0.20515826j,\n",
       "         -0.10321885+0.3130677j ,  0.41059850-0.85409574j]),\n",
       "  'func_type': 4,\n",
       "  'id1': 'id1',\n",
       "  'orddenom_spec_data_type': 13,\n",
       "  'ordinate_spec_data_type': 12,\n",
       "  'ref_dir': 1,\n",
       "  'ref_ent_name': 'TestCase',\n",
       "  'ref_node': 1,\n",
       "  'rsp_dir': 1,\n",
       "  'rsp_ent_name': 'TestCase',\n",
       "  'rsp_node': 1,\n",
       "  'type': 58,\n",
       "  'x': array([0, 1, 2, 3, 4, 5, 6, 7, 8, 9])},\n",
       " {'abscissa_spacing': 1,\n",
       "  'abscissa_spec_data_type': 18,\n",
       "  'binary': 1,\n",
       "  'data': array([-2.55298982+0.15494743j,  0.65361860+0.37816252j,\n",
       "          0.86443620-0.88778575j, -0.74216502-1.98079647j,\n",
       "          2.26975462-0.34791215j, -1.45436567+0.15634897j,\n",
       "          0.04575852+1.23029068j, -0.18718385+1.20237985j,\n",
       "          1.53277921-0.38732682j,  1.46935877-0.30230275j]),\n",
       "  'func_type': 4,\n",
       "  'id1': 'id1',\n",
       "  'orddenom_spec_data_type': 13,\n",
       "  'ordinate_spec_data_type': 12,\n",
       "  'ref_dir': 1,\n",
       "  'ref_ent_name': 'TestCase',\n",
       "  'ref_node': 2,\n",
       "  'rsp_dir': 1,\n",
       "  'rsp_ent_name': 'TestCase',\n",
       "  'rsp_node': 1,\n",
       "  'type': 58,\n",
       "  'x': array([0, 1, 2, 3, 4, 5, 6, 7, 8, 9])},\n",
       " {'abscissa_spacing': 1,\n",
       "  'abscissa_spec_data_type': 18,\n",
       "  'binary': 0,\n",
       "  'data': array([-1.04855297-0.89546656j, -1.42001794+0.3869025j ,\n",
       "         -1.70627019-0.51080514j,  1.95077540-1.18063218j,\n",
       "         -0.50965218-0.02818223j, -0.43807430+0.42833187j,\n",
       "         -1.25279536+0.06651722j,  0.77749036+0.3024719j ,\n",
       "         -1.61389785-0.63432209j, -0.21274028-0.36274117j]),\n",
       "  'func_type': 4,\n",
       "  'id1': 'id1',\n",
       "  'orddenom_spec_data_type': 13,\n",
       "  'ordinate_spec_data_type': 12,\n",
       "  'ref_dir': 1,\n",
       "  'ref_ent_name': 'TestCase',\n",
       "  'ref_node': 3,\n",
       "  'rsp_dir': 1,\n",
       "  'rsp_ent_name': 'TestCase',\n",
       "  'rsp_node': 1,\n",
       "  'type': 58,\n",
       "  'x': array([0, 1, 2, 3, 4, 5, 6, 7, 8, 9])}]"
      ]
     },
     "execution_count": 16,
     "metadata": {},
     "output_type": "execute_result"
    }
   ],
   "source": [
    "pyuff.prepare_test_58()"
   ]
  },
  {
   "cell_type": "code",
   "execution_count": 17,
   "metadata": {},
   "outputs": [
    {
     "data": {
      "text/plain": [
       "{'color': 30,\n",
       " 'id': 'Identification line',\n",
       " 'n_nodes': 7,\n",
       " 'nodes': [0, 10, 13, 14, 15, 16, 17],\n",
       " 'trace_num': 2,\n",
       " 'type': 82}"
      ]
     },
     "execution_count": 17,
     "metadata": {},
     "output_type": "execute_result"
    }
   ],
   "source": [
    "pyuff.prepare_test_82()"
   ]
  },
  {
   "cell_type": "code",
   "execution_count": 18,
   "metadata": {},
   "outputs": [
    {
     "data": {
      "text/plain": [
       "{'date_db_created': '27-Jan-16',\n",
       " 'date_db_saved': '28-Jan-16',\n",
       " 'date_db_written': '29-Jan-16',\n",
       " 'db_app': 'Model file description',\n",
       " 'description': 'Model file description',\n",
       " 'file_type': 0,\n",
       " 'model_name': 'Model file name',\n",
       " 'program': 'OpenModal',\n",
       " 'time_db_created': '14:38:15',\n",
       " 'time_db_saved': '14:38:16',\n",
       " 'time_db_written': '14:38:17',\n",
       " 'type': 151,\n",
       " 'version_db1': 1,\n",
       " 'version_db2': 2}"
      ]
     },
     "execution_count": 18,
     "metadata": {},
     "output_type": "execute_result"
    }
   ],
   "source": [
    "pyuff.prepare_test_151()"
   ]
  },
  {
   "cell_type": "code",
   "execution_count": 19,
   "metadata": {},
   "outputs": [
    {
     "data": {
      "text/plain": [
       "{'force': 0.22480894309971047,\n",
       " 'length': 3.2808398950131235,\n",
       " 'temp': 1.8,\n",
       " 'temp_mode': 1,\n",
       " 'temp_offset': 459.67,\n",
       " 'type': 164,\n",
       " 'units_code': 1,\n",
       " 'units_description': 'SI units'}"
      ]
     },
     "execution_count": 19,
     "metadata": {},
     "output_type": "execute_result"
    }
   ],
   "source": [
    "pyuff.prepare_test_164()"
   ]
  }
 ],
 "metadata": {
  "anaconda-cloud": {},
  "kernelspec": {
   "display_name": "Python 3",
   "language": "python",
   "name": "python3"
  },
  "language_info": {
   "codemirror_mode": {
    "name": "ipython",
    "version": 3
   },
   "file_extension": ".py",
   "mimetype": "text/x-python",
   "name": "python",
   "nbconvert_exporter": "python",
   "pygments_lexer": "ipython3",
   "version": "3.6.1"
  },
  "latex_envs": {
   "bibliofile": "biblio.bib",
   "cite_by": "apalike",
   "current_citInitial": 1,
   "eqLabelWithNumbers": true,
   "eqNumInitial": 0
  },
  "nav_menu": {},
  "toc": {
   "navigate_menu": true,
   "number_sections": true,
   "sideBar": true,
   "threshold": "2",
   "toc_cell": false,
   "toc_section_display": "block",
   "toc_window_display": false
  }
 },
 "nbformat": 4,
 "nbformat_minor": 1
}
