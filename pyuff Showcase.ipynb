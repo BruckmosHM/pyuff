{
 "cells": [
  {
   "cell_type": "markdown",
   "metadata": {},
   "source": [
    "Feb 2016: Matej Razpotnik (matej.razpotnik@gmail.com), Blaž Starc (sbtlaarzc@gmail.com), Matjaž Mršnik (matjaz.mrsnik@gmail.com), Matija Brumat (matija.brumat@gmail.com), Janko Slavič (janko.slavic@gmail.com)"
   ]
  },
  {
   "cell_type": "markdown",
   "metadata": {},
   "source": [
    "# pyuff Showcase"
   ]
  },
  {
   "cell_type": "markdown",
   "metadata": {},
   "source": [
    "This module is part of the [www.openmodal.com](www.openmodal.com) project and defines an UFF class to manipulate with the UFF (Universal File Format) files."
   ]
  },
  {
   "cell_type": "markdown",
   "metadata": {},
   "source": [
    "UFF file format was originally developed by the Structural Dynamics Research Corporation (SDRC) to standardize data transfer mainly between various modal analysis, measurement or CAD geometry software products. UFF file is composed into several *datasets*, most important being the *dataset* 58 for measurement data and *dataset* 55 for modal data. More info on specific *datasets* can be obtained at http://www.sdrl.uc.edu/sdrl/referenceinfo/universalfileformats"
   ]
  },
  {
   "cell_type": "code",
   "execution_count": 1,
   "metadata": {
    "collapsed": true
   },
   "outputs": [],
   "source": [
    "import numpy as np\n",
    "import matplotlib.pyplot as plt\n",
    "%matplotlib inline"
   ]
  },
  {
   "cell_type": "markdown",
   "metadata": {},
   "source": [
    "If required, install ``pyuff``"
   ]
  },
  {
   "cell_type": "code",
   "execution_count": 2,
   "metadata": {
    "collapsed": false
   },
   "outputs": [],
   "source": [
    "#!!pip install pyuff"
   ]
  },
  {
   "cell_type": "markdown",
   "metadata": {},
   "source": [
    "To analyse UFF file we first load the uff module and example file:"
   ]
  },
  {
   "cell_type": "code",
   "execution_count": 3,
   "metadata": {
    "collapsed": true
   },
   "outputs": [],
   "source": [
    "import pyuff\n",
    "uff_file = pyuff.UFF('data/beam.uff')"
   ]
  },
  {
   "cell_type": "markdown",
   "metadata": {},
   "source": [
    "First we can check which *datasets* are written in the file:"
   ]
  },
  {
   "cell_type": "code",
   "execution_count": 4,
   "metadata": {
    "collapsed": false
   },
   "outputs": [
    {
     "data": {
      "text/plain": [
       "array([  151.,   164.,  2420.,  2411.,    58.,    58.,    58.])"
      ]
     },
     "execution_count": 4,
     "metadata": {},
     "output_type": "execute_result"
    }
   ],
   "source": [
    "uff_file.get_set_types()"
   ]
  },
  {
   "cell_type": "markdown",
   "metadata": {},
   "source": [
    "we see that first 4 *datasets* are *151: Header, 164: Units, 2420: Coordinate Systems* and *2411: Nodes - Double Precision*. Next we have several *datasets* 58 containing measurement data. To check what is written in the header (first *dataset*) use:"
   ]
  },
  {
   "cell_type": "code",
   "execution_count": 5,
   "metadata": {
    "collapsed": false
   },
   "outputs": [
    {
     "data": {
      "text/plain": [
       "{'date_db_created': '29-Jan-16',\n",
       " 'date_db_saved': '29-Jan-16',\n",
       " 'date_file_written': '29-Jan-16',\n",
       " 'db_app': 'modaldata v1',\n",
       " 'description': 'DefaultDecription',\n",
       " 'file_type': 0,\n",
       " 'model_name': 'NewModel',\n",
       " 'program': 'Open Modal',\n",
       " 'time_db_created': '14:48:16',\n",
       " 'time_db_saved': '14:48:16',\n",
       " 'time_file_written': '14:48:16',\n",
       " 'type': 151,\n",
       " 'version_db1': 0,\n",
       " 'version_db2': 0}"
      ]
     },
     "execution_count": 5,
     "metadata": {},
     "output_type": "execute_result"
    }
   ],
   "source": [
    "uff_file.read_sets(0)"
   ]
  },
  {
   "cell_type": "markdown",
   "metadata": {},
   "source": [
    "We see that each *dataset* consists number of dictionary-like *keys*. We read and write directly to *keys*."
   ]
  },
  {
   "cell_type": "markdown",
   "metadata": {},
   "source": [
    "## Reading from the UFF file"
   ]
  },
  {
   "cell_type": "markdown",
   "metadata": {},
   "source": [
    "To load all *datasets* from the UFF file to `data` object use:"
   ]
  },
  {
   "cell_type": "code",
   "execution_count": 6,
   "metadata": {
    "collapsed": false
   },
   "outputs": [],
   "source": [
    "data = uff_file.read_sets()"
   ]
  },
  {
   "cell_type": "markdown",
   "metadata": {},
   "source": [
    "The first *dataset* 58 (this is the fifth in the example file) contains following *keys*:"
   ]
  },
  {
   "cell_type": "code",
   "execution_count": 7,
   "metadata": {
    "collapsed": false
   },
   "outputs": [
    {
     "data": {
      "text/plain": [
       "dict_keys(['load_case_id', 'z_axis_len_unit_exp', 'abscissa_inc', 'abscissa_axis_units_lab', 'id4', 'binary', 'orddenom_force_unit_exp', 'ref_node', 'abscissa_axis_lab', 'ordinate_axis_units_lab', 'abscissa_spacing', 'orddenom_len_unit_exp', 'rsp_dir', 'id1', 'ordinate_force_unit_exp', 'ord_data_type', 'ref_ent_name', 'func_id', 'abscissa_force_unit_exp', 'z_axis_value', 'z_axis_axis_lab', 'orddenom_axis_lab', 'func_type', 'z_axis_temp_unit_exp', 'ordinate_spec_data_type', 'type', 'num_pts', 'orddenom_axis_units_lab', 'id3', 'rsp_ent_name', 'orddenom_spec_data_type', 'ordinate_axis_lab', 'abscissa_spec_data_type', 'ordinate_temp_unit_exp', 'abscissa_temp_unit_exp', 'z_axis_spec_data_type', 'ordinate_len_unit_exp', 'z_axis_axis_units_lab', 'data', 'x', 'z_axis_force_unit_exp', 'abscissa_min', 'ver_num', 'id2', 'ref_dir', 'abscissa_len_unit_exp', 'orddenom_temp_unit_exp', 'id5', 'rsp_node'])"
      ]
     },
     "execution_count": 7,
     "metadata": {},
     "output_type": "execute_result"
    }
   ],
   "source": [
    "data[4].keys()"
   ]
  },
  {
   "cell_type": "markdown",
   "metadata": {},
   "source": [
    "To read specific *key* form the desired *dataset* use:"
   ]
  },
  {
   "cell_type": "code",
   "execution_count": 8,
   "metadata": {
    "collapsed": false
   },
   "outputs": [
    {
     "data": {
      "text/plain": [
       "4"
      ]
     },
     "execution_count": 8,
     "metadata": {},
     "output_type": "execute_result"
    }
   ],
   "source": [
    "data[4]['func_type']"
   ]
  },
  {
   "cell_type": "markdown",
   "metadata": {},
   "source": [
    "e.g. *key* `'func_type'`: 4 in the *dataset* 58 means that the function type in this *dataset* is frequency response function."
   ]
  },
  {
   "cell_type": "markdown",
   "metadata": {},
   "source": [
    "Most important *keys* are 'x': x_axis and 'data': y_axis that define the stored response:"
   ]
  },
  {
   "cell_type": "code",
   "execution_count": 9,
   "metadata": {
    "collapsed": false
   },
   "outputs": [
    {
     "data": {
      "image/png": "[encoded data removed]",
      "text/plain": [
       "<matplotlib.figure.Figure at 0xce9d74dba8>"
      ]
     },
     "metadata": {},
     "output_type": "display_data"
    }
   ],
   "source": [
    "plt.semilogy(data[4]['x'], np.abs(data[4]['data']))\n",
    "plt.xlabel('Frequency  [Hz]')\n",
    "plt.ylabel('FRF Magnitude [dB m/N]')\n",
    "plt.xlim([0,1000])\n",
    "plt.show()"
   ]
  },
  {
   "cell_type": "markdown",
   "metadata": {},
   "source": [
    "Other keys in the *dataset* 58 are explained here: http://www.sdrl.uc.edu/sdrl/referenceinfo/universalfileformats/file-format-storehouse/universal-dataset-number-58 Similarly we could read the data from *dataset* 55 that is used for modal data."
   ]
  },
  {
   "cell_type": "markdown",
   "metadata": {},
   "source": [
    "## Write measurement data to UFF file"
   ]
  },
  {
   "cell_type": "markdown",
   "metadata": {},
   "source": [
    "Here you can see a minimal working example for writing three measured accelerance FRF data to the UFF file *measurement_123.uff*. First we load the accelerances:"
   ]
  },
  {
   "cell_type": "code",
   "execution_count": 10,
   "metadata": {
    "collapsed": false
   },
   "outputs": [],
   "source": [
    "measurement_point_1 = np.genfromtxt('data/meas_point_1.txt', dtype=complex)\n",
    "measurement_point_2 = np.genfromtxt('data/meas_point_2.txt', dtype=complex)\n",
    "measurement_point_3 = np.genfromtxt('data/meas_point_3.txt', dtype=complex)"
   ]
  },
  {
   "cell_type": "code",
   "execution_count": 11,
   "metadata": {
    "collapsed": false
   },
   "outputs": [],
   "source": [
    "measurement = [measurement_point_1, measurement_point_2, measurement_point_3]"
   ]
  },
  {
   "cell_type": "markdown",
   "metadata": {},
   "source": [
    "In the next step we create a UFF file where we add *dataset* 58 for each measurement point consisting of the dictionary-like *keys* containing the measurement data and the information about the mesurement point."
   ]
  },
  {
   "cell_type": "code",
   "execution_count": 12,
   "metadata": {
    "collapsed": false
   },
   "outputs": [
    {
     "name": "stdout",
     "output_type": "stream",
     "text": [
      "Adding point 1\n",
      "Adding point 2\n",
      "Adding point 3\n"
     ]
    }
   ],
   "source": [
    "for i in range(3):\n",
    "    print('Adding point {:}'.format(i + 1))\n",
    "    response_node = 1\n",
    "    response_direction = 1\n",
    "    reference_node = i + 1\n",
    "    reference_direction = 1\n",
    "    acceleration_complex = measurement[i]\n",
    "    frequency = np.arange(0, 1001)\n",
    "    data = {'type':58, \n",
    "            'func_type':4, \n",
    "            'rsp_node': response_node, \n",
    "            'rsp_dir': response_direction, \n",
    "            'ref_dir': reference_direction, \n",
    "            'ref_node': reference_node,\n",
    "            'data': acceleration_complex,\n",
    "            'x': frequency,\n",
    "            'id1': 'id1', \n",
    "            'rsp_ent_name': 'ent_name',\n",
    "            'abscissa_spacing':0}\n",
    "    uffwrite = pyuff.UFF('measurement_123.uff')\n",
    "    uffwrite._write_set(data,'add')"
   ]
  },
  {
   "cell_type": "markdown",
   "metadata": {},
   "source": [
    "Note: If we run upper example twice we add the data two-times! `._write_set` Does not check if the nodal responses are allready written in the file, it just writes the defined dataset at the end of choosen file!"
   ]
  }
 ],
 "metadata": {
  "anaconda-cloud": {},
  "kernelspec": {
   "display_name": "Python [default]",
   "language": "python",
   "name": "python3"
  },
  "language_info": {
   "codemirror_mode": {
    "name": "ipython",
    "version": 3
   },
   "file_extension": ".py",
   "mimetype": "text/x-python",
   "name": "python",
   "nbconvert_exporter": "python",
   "pygments_lexer": "ipython3",
   "version": "3.5.2"
  }
 },
 "nbformat": 4,
 "nbformat_minor": 0
}
